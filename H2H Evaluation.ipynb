{
 "cells": [
  {
   "cell_type": "markdown",
   "metadata": {},
   "source": [
    "## Agent evaluation with Poker RL library"
   ]
  },
  {
   "cell_type": "code",
   "execution_count": 1,
   "metadata": {},
   "outputs": [],
   "source": [
    "import time, sys\n",
    "from os.path import dirname, abspath\n",
    "\n",
    "sys.path.append(\"/home/leduc/Deep-CFR/\")\n",
    "\n",
    "import numpy as np\n",
    "\n",
    "from DeepCFR.EvalAgentDeepCFR import EvalAgentDeepCFR\n",
    "from PokerRL.game.AgentTournament import AgentTournament"
   ]
  },
  {
   "cell_type": "code",
   "execution_count": 2,
   "metadata": {},
   "outputs": [
    {
     "name": "stdout",
     "output_type": "stream",
     "text": [
      "\n",
      "Played 200 hands of poker.\n",
      "Player  AVRG_NET: -40.0 +/- 644.2469301205757\n",
      "Player  SINGLE: 40.0 +/- 644.2469301205757\n",
      "Time taken 2.4887771606445312\n"
     ]
    }
   ],
   "source": [
    "path_to_dcfr_eval_agent = \"/home/leduc/Deep-CFR/trained_agents/Example_FHP_AVRG_NET.pkl\"\n",
    "path_to_sdcfr_eval_agent = \"/home/leduc/Deep-CFR/trained_agents/Example_FHP_SINGLE.pkl\"\n",
    "\n",
    "start_time = time.time()\n",
    "\n",
    "eval_agent_dcfr = EvalAgentDeepCFR.load_from_disk(path_to_eval_agent=path_to_dcfr_eval_agent)\n",
    "eval_agent_sdcfr = EvalAgentDeepCFR.load_from_disk(path_to_eval_agent=path_to_sdcfr_eval_agent)\n",
    "assert eval_agent_dcfr.t_prof.name == eval_agent_sdcfr.t_prof.name\n",
    "\n",
    "env_bldr = eval_agent_dcfr.env_bldr\n",
    "env = env_bldr.get_new_env(is_evaluating=False)\n",
    "env_cls = env_bldr.env_cls\n",
    "env_args = env_bldr.env_args\n",
    "\n",
    "matchup = AgentTournament(env_cls, env_args, eval_agent_dcfr, eval_agent_sdcfr)\n",
    "matchup.run(n_games_per_seat=100)\n",
    "\n",
    "end_time = time.time()\n",
    "\n",
    "print(\"Time taken\", end_time - start_time)"
   ]
  },
  {
   "cell_type": "code",
   "execution_count": 3,
   "metadata": {},
   "outputs": [],
   "source": [
    "## TODO \n",
    "\n",
    "# Compute CFR for Leduc\n",
    "# Compute EV for hands in Leduc\n",
    "# Write update equations for tournament\n",
    "# Build agents for: multi-arm-bandit, bayesian update, bayesian optimization, range-update model, DQN?"
   ]
  },
  {
   "cell_type": "code",
   "execution_count": 4,
   "metadata": {},
   "outputs": [],
   "source": [
    "def h2h_eval(agent_file1, agent_file2, n_games = 100/2):\n",
    "    eval_agent_1 = EvalAgentDeepCFR.load_from_disk(path_to_eval_agent=agent_file1)\n",
    "    eval_agent_2 = EvalAgentDeepCFR.load_from_disk(path_to_eval_agent=agent_file2)\n",
    "    # assert eval_agent_dcfr.t_prof.name == eval_agent_sdcfr.t_prof.name\n",
    "    \n",
    "    start_time = time.time()\n",
    "    \n",
    "    env_bldr = eval_agent_1.env_bldr\n",
    "    env = env_bldr.get_new_env(is_evaluating=False)\n",
    "    env_cls = env_bldr.env_cls\n",
    "    env_args = env_bldr.env_args\n",
    "    \n",
    "    print(\"Agent 1:\", eval_agent_1.t_prof.name)\n",
    "    print(\"Agent 2:\", eval_agent_2.t_prof.name)\n",
    "    matchup = AgentTournament(env_cls, env_args, eval_agent_1, eval_agent_2)\n",
    "    mean, upper_conf95, lower_conf95 = matchup.run(n_games_per_seat=n_games)\n",
    "\n",
    "    end_time = time.time()\n",
    "\n",
    "    print(\"Time taken\", end_time - start_time)"
   ]
  },
  {
   "cell_type": "code",
   "execution_count": 5,
   "metadata": {},
   "outputs": [
    {
     "name": "stdout",
     "output_type": "stream",
     "text": [
      "Agent 1: SD-CFR_LEDUC_EXAMPLE_2\n",
      "Agent 2: SD-CFR_LEDUC_EXAMPLE_10\n",
      "\n",
      "Played 200 hands of poker.\n",
      "Player  AVRG_NET: -205.0 +/- 635.0063413132558\n",
      "Player  AVRG_NET: 205.0 +/- 635.0063413132558\n",
      "Time taken 0.7445094585418701\n"
     ]
    }
   ],
   "source": [
    "agent_file1 = \"/home/leduc/poker_ai_data/eval_agent/SD-CFR_LEDUC_EXAMPLE_2/2/eval_agentAVRG_NET.pkl\"\n",
    "agent_file2 = \"/home/leduc/poker_ai_data/eval_agent/SD-CFR_LEDUC_EXAMPLE_10/10/eval_agentAVRG_NET.pkl\"\n",
    "\n",
    "h2h_eval(agent_file1, agent_file2, n_games = 100)"
   ]
  },
  {
   "cell_type": "code",
   "execution_count": 6,
   "metadata": {},
   "outputs": [
    {
     "name": "stdout",
     "output_type": "stream",
     "text": [
      "Agent 1: SD-CFR_LEDUC_EXAMPLE_2\n",
      "Agent 2: SD-CFR_LEDUC_EXAMPLE_10\n",
      "\n",
      "Played 200 hands of poker.\n",
      "Player  AVRG_NET: -1085.0 +/- 662.4652007383397\n",
      "Player  AVRG_NET: 1085.0 +/- 662.4652007383397\n",
      "Time taken 0.6884188652038574\n"
     ]
    }
   ],
   "source": [
    "eval_agent_1 = EvalAgentDeepCFR.load_from_disk(path_to_eval_agent=agent_file1)\n",
    "eval_agent_2 = EvalAgentDeepCFR.load_from_disk(path_to_eval_agent=agent_file2)\n",
    "# assert eval_agent_dcfr.t_prof.name == eval_agent_sdcfr.t_prof.name\n",
    "\n",
    "start_time = time.time()\n",
    "\n",
    "env_bldr = eval_agent_1.env_bldr\n",
    "env = env_bldr.get_new_env(is_evaluating=False)\n",
    "env_cls = env_bldr.env_cls\n",
    "env_args = env_bldr.env_args\n",
    "\n",
    "print(\"Agent 1:\", eval_agent_1.t_prof.name)\n",
    "print(\"Agent 2:\", eval_agent_2.t_prof.name)\n",
    "matchup = AgentTournament(env_cls, env_args, eval_agent_1, eval_agent_2)\n",
    "mean, upper_conf95, lower_conf95 = matchup.run(n_games_per_seat=100)\n",
    "\n",
    "end_time = time.time()\n",
    "\n",
    "print(\"Time taken\", end_time - start_time)"
   ]
  },
  {
   "cell_type": "code",
   "execution_count": 14,
   "metadata": {},
   "outputs": [
    {
     "data": {
      "text/plain": [
       "array([0., 0., 0., 0., 0., 0., 0., 0., 0., 0., 0., 0., 0., 0., 0., 0., 0.,\n",
       "       0., 0., 0., 0., 0., 0., 0., 0., 0., 0.], dtype=float32)"
      ]
     },
     "execution_count": 14,
     "metadata": {},
     "output_type": "execute_result"
    }
   ],
   "source": [
    "env = env_bldr.get_new_env(is_evaluating=True)\n",
    "env.\n",
    "\n",
    "env.get_current_obs(is_terminal=True)"
   ]
  },
  {
   "cell_type": "code",
   "execution_count": 19,
   "metadata": {},
   "outputs": [
    {
     "ename": "TypeError",
     "evalue": "unsupported operand type(s) for /: 'int' and 'NoneType'",
     "output_type": "error",
     "traceback": [
      "\u001b[0;31m---------------------------------------------------------------------------\u001b[0m",
      "\u001b[0;31mTypeError\u001b[0m                                 Traceback (most recent call last)",
      "\u001b[0;32m<ipython-input-19-d0c9b14a5cc4>\u001b[0m in \u001b[0;36m<module>\u001b[0;34m\u001b[0m\n\u001b[0;32m----> 1\u001b[0;31m \u001b[0menv\u001b[0m\u001b[0;34m.\u001b[0m\u001b[0m_get_table_state\u001b[0m\u001b[0;34m(\u001b[0m\u001b[0mnormalization_sum\u001b[0m\u001b[0;34m=\u001b[0m\u001b[0;32mNone\u001b[0m\u001b[0;34m)\u001b[0m\u001b[0;34m\u001b[0m\u001b[0;34m\u001b[0m\u001b[0m\n\u001b[0m",
      "\u001b[0;32m~/miniconda3/envs/leduc3/lib/python3.7/site-packages/PokerRL/game/_/rl_env/base/PokerEnv.py\u001b[0m in \u001b[0;36m_get_table_state\u001b[0;34m(self, normalization_sum)\u001b[0m\n\u001b[1;32m   1005\u001b[0m         \u001b[0;32mif\u001b[0m \u001b[0;34m(\u001b[0m\u001b[0mself\u001b[0m\u001b[0;34m.\u001b[0m\u001b[0mN_SEATS\u001b[0m \u001b[0;34m==\u001b[0m \u001b[0;36m2\u001b[0m\u001b[0;34m)\u001b[0m \u001b[0;32mand\u001b[0m \u001b[0mself\u001b[0m\u001b[0;34m.\u001b[0m\u001b[0m_USE_SIMPLE_HU_OBS\u001b[0m\u001b[0;34m:\u001b[0m\u001b[0;34m\u001b[0m\u001b[0;34m\u001b[0m\u001b[0m\n\u001b[1;32m   1006\u001b[0m             community_state = [\n\u001b[0;32m-> 1007\u001b[0;31m                 \u001b[0mself\u001b[0m\u001b[0;34m.\u001b[0m\u001b[0mANTE\u001b[0m \u001b[0;34m/\u001b[0m \u001b[0mnormalization_sum\u001b[0m\u001b[0;34m,\u001b[0m\u001b[0;34m\u001b[0m\u001b[0;34m\u001b[0m\u001b[0m\n\u001b[0m\u001b[1;32m   1008\u001b[0m                 \u001b[0mself\u001b[0m\u001b[0;34m.\u001b[0m\u001b[0mSMALL_BLIND\u001b[0m \u001b[0;34m/\u001b[0m \u001b[0mnormalization_sum\u001b[0m\u001b[0;34m,\u001b[0m\u001b[0;34m\u001b[0m\u001b[0;34m\u001b[0m\u001b[0m\n\u001b[1;32m   1009\u001b[0m                 \u001b[0mself\u001b[0m\u001b[0;34m.\u001b[0m\u001b[0mBIG_BLIND\u001b[0m \u001b[0;34m/\u001b[0m \u001b[0mnormalization_sum\u001b[0m\u001b[0;34m,\u001b[0m\u001b[0;34m\u001b[0m\u001b[0;34m\u001b[0m\u001b[0m\n",
      "\u001b[0;31mTypeError\u001b[0m: unsupported operand type(s) for /: 'int' and 'NoneType'"
     ]
    }
   ],
   "source": [
    "env._get_table_state(normalization_sum=None)"
   ]
  },
  {
   "cell_type": "code",
   "execution_count": 21,
   "metadata": {},
   "outputs": [
    {
     "ename": "SyntaxError",
     "evalue": "invalid syntax (<ipython-input-21-84da960adba9>, line 3)",
     "output_type": "error",
     "traceback": [
      "\u001b[0;36m  File \u001b[0;32m\"<ipython-input-21-84da960adba9>\"\u001b[0;36m, line \u001b[0;32m3\u001b[0m\n\u001b[0;31m    def __init__(self, agent_list, gamma)\u001b[0m\n\u001b[0m                                         ^\u001b[0m\n\u001b[0;31mSyntaxError\u001b[0m\u001b[0;31m:\u001b[0m invalid syntax\n"
     ]
    }
   ],
   "source": [
    "class MAB(object):\n",
    "    \n",
    "    def __init__(self, agent_list, stupid_agent, gamma):\n",
    "        \n",
    "        self.ev = []\n",
    "        self.ucb = []\n",
    "        \n",
    "    def run(self):\n",
    "        best_agent = argmax self.ucb\n",
    "        reward = h2h_eval(best_agent, stupid_agent)\n",
    "        self.ev update\n",
    "        self.ucb update"
   ]
  },
  {
   "cell_type": "code",
   "execution_count": null,
   "metadata": {},
   "outputs": [],
   "source": []
  }
 ],
 "metadata": {
  "kernelspec": {
   "display_name": "Python 3",
   "language": "python",
   "name": "python3"
  },
  "language_info": {
   "codemirror_mode": {
    "name": "ipython",
    "version": 3
   },
   "file_extension": ".py",
   "mimetype": "text/x-python",
   "name": "python",
   "nbconvert_exporter": "python",
   "pygments_lexer": "ipython3",
   "version": "3.7.3"
  }
 },
 "nbformat": 4,
 "nbformat_minor": 2
}
