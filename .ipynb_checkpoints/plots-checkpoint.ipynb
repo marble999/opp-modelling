{
 "cells": [
  {
   "cell_type": "code",
   "execution_count": 18,
   "metadata": {},
   "outputs": [],
   "source": [
    "# UCB MAB baseline\n",
    "# UCB = empirical mean of specific arm + sqrt(2 log t/N_t), where N_t = number of trials of specific arm\n",
    "import time, sys\n",
    "from os.path import dirname, abspath\n",
    "sys.path.append(\"/home/leduc/Deep-CFR/\")\n",
    "sys.path.append(\"/home/leduc/PokerRL/\")\n",
    "import numpy as np\n",
    "from PokerRL.game.AgentTournament import AgentTournament\n",
    "from H2HEvaluator import H2HEval\n",
    "# UCB MAB baseline\n",
    "# UCB = empirical mean of specific arm + sqrt(2 log t/N_t), where N_t = number of trials of specific arm\n",
    "import matplotlib.pyplot as plt\n",
    "import seaborn as sns"
   ]
  },
  {
   "cell_type": "code",
   "execution_count": 2,
   "metadata": {},
   "outputs": [],
   "source": [
    "sys.path.append(\"/home/leduc/opp-modelling\")\n",
    "\n",
    "from ucb import MAB"
   ]
  },
  {
   "cell_type": "code",
   "execution_count": 3,
   "metadata": {},
   "outputs": [
    {
     "name": "stdout",
     "output_type": "stream",
     "text": [
      " ************************** Initing args for:  MAB   **************************\n"
     ]
    }
   ],
   "source": [
    "from PokerRL.rl.base_cls.EvalAgentBase import EvalAgentBase as _EvalAgentBase\n",
    "from PokerRL.game.games import StandardLeduc  # or any other game\n",
    "from DeepCFR.EvalAgentDeepCFR import EvalAgentDeepCFR\n",
    "from DeepCFR.TrainingProfile import TrainingProfile\n",
    "from DeepCFR.workers.driver.Driver import Driver\n",
    "\n",
    "t_prof = TrainingProfile(name=\"MAB\",\n",
    "                                         nn_type=\"feedforward\",\n",
    "                                         max_buffer_size_adv=3e6,\n",
    "                                         eval_agent_export_freq=20,  # export API to play against the agent\n",
    "                                         n_traversals_per_iter=1500,\n",
    "                                         n_batches_adv_training=750,\n",
    "                                         n_batches_avrg_training=2000,\n",
    "                                         n_merge_and_table_layer_units_adv=64,\n",
    "                                         n_merge_and_table_layer_units_avrg=64,\n",
    "                                         n_units_final_adv=64,\n",
    "                                         n_units_final_avrg=64,\n",
    "                                         mini_batch_size_adv=2048,\n",
    "                                         mini_batch_size_avrg=2048,\n",
    "                                         init_adv_model=\"last\",\n",
    "                                         init_avrg_model=\"last\",\n",
    "                                         use_pre_layers_adv=False,\n",
    "                                         use_pre_layers_avrg=False,\n",
    "\n",
    "                                         game_cls=StandardLeduc,\n",
    "\n",
    "                                         # You can specify one or both modes. Choosing both is useful to compare them.\n",
    "                                         eval_modes_of_algo=(\n",
    "                                             EvalAgentDeepCFR.EVAL_MODE_SINGLE,  # SD-CFR\n",
    "                                             EvalAgentDeepCFR.EVAL_MODE_AVRG_NET,  # Deep CFR\n",
    "                                         ),\n",
    "\n",
    "                                         DISTRIBUTED=False,\n",
    "                                         )"
   ]
  },
  {
   "cell_type": "code",
   "execution_count": 9,
   "metadata": {},
   "outputs": [],
   "source": [
    "avg_agents = [\"/home/leduc/poker_ai_data/eval_agent/SD-CFR_LEDUC_EXAMPLE_200/\" + str(20 * i) + \"/eval_agentAVRG_NET.pkl\" for i in range(1,6)]\n",
    "single_agents = [\"/home/leduc/poker_ai_data/eval_agent/SD-CFR_LEDUC_EXAMPLE_200/\" + str(20 * i) + \"/eval_agentSINGLE.pkl\" for i in range(1,6)]\n",
    "agents = avg_agents + single_agents\n",
    "agents = [EvalAgentDeepCFR.load_from_disk(path_to_eval_agent=agents[i]) for i in range(len(agents))]\n",
    "cfr2_path = \"/home/leduc/poker_ai_data/eval_agent/SD-CFR_LEDUC_EXAMPLE_2/2/eval_agentAVRG_NET.pkl\"\n",
    "cfr2 = EvalAgentDeepCFR.load_from_disk(path_to_eval_agent=cfr2_path)\n",
    "cfr20_path = \"/home/leduc/poker_ai_data/eval_agent/SD-CFR_LEDUC_EXAMPLE_30/20/eval_agentAVRG_NET.pkl\"\n",
    "cfr20 = EvalAgentDeepCFR.load_from_disk(path_to_eval_agent=cfr20_path)"
   ]
  },
  {
   "cell_type": "code",
   "execution_count": 10,
   "metadata": {},
   "outputs": [
    {
     "name": "stdout",
     "output_type": "stream",
     "text": [
      "\n",
      "Played 20 hands of poker.\n",
      "Player  AVRG_NET: -350.0 +/- 1468.529224029509\n",
      "Player  AVRG_NET: 350.0 +/- 1468.529224029509\n",
      "UCB List:  [inf, inf, inf, inf, inf, inf, inf, inf, inf, inf]\n",
      "best agent, reward, arm_times, avg reward 0 -350.0 1 -350.0\n",
      "\n",
      "Played 20 hands of poker.\n",
      "Player  AVRG_NET: 1650.0 +/- 2080.1640249163383\n",
      "Player  AVRG_NET: -1650.0 +/- 2080.1640249163383\n",
      "\n",
      "Played 20 hands of poker.\n",
      "Player  AVRG_NET: 700.0 +/- 1518.8419217814262\n",
      "Player  AVRG_NET: -700.0 +/- 1518.8419217814262\n",
      "UCB List:  [-349.41129498874227, inf, inf, inf, inf, inf, inf, inf, inf, inf]\n",
      "best agent, reward, arm_times, avg reward 1 700.0 1 700.0\n",
      "\n",
      "Played 20 hands of poker.\n",
      "Player  AVRG_NET: 2150.0 +/- 2593.8546199259254\n",
      "Player  AVRG_NET: -2150.0 +/- 2593.8546199259254\n",
      "\n",
      "Played 20 hands of poker.\n",
      "Player  AVRG_NET: 1400.0 +/- 1887.1044618867234\n",
      "Player  AVRG_NET: -1400.0 +/- 1887.1044618867234\n",
      "UCB List:  [-349.2588480963162, 700.7411519036838, inf, inf, inf, inf, inf, inf, inf, inf]\n",
      "best agent, reward, arm_times, avg reward 2 1400.0 1 1400.0\n",
      "\n",
      "Played 20 hands of poker.\n",
      "Player  AVRG_NET: 1350.0 +/- 1990.5099144133885\n",
      "Player  AVRG_NET: -1350.0 +/- 1990.5099144133885\n",
      "\n",
      "Played 20 hands of poker.\n",
      "Player  AVRG_NET: 1150.0 +/- 1792.4893266796107\n",
      "Player  AVRG_NET: -1150.0 +/- 1792.4893266796107\n",
      "UCB List:  [-349.1674453888423, 700.8325546111577, 1400.8325546111578, inf, inf, inf, inf, inf, inf, inf]\n",
      "best agent, reward, arm_times, avg reward 3 1150.0 1 1150.0\n",
      "\n",
      "Played 20 hands of poker.\n",
      "Player  AVRG_NET: 150.0 +/- 2417.543022620332\n",
      "Player  AVRG_NET: -150.0 +/- 2417.543022620332\n",
      "\n",
      "Played 20 hands of poker.\n",
      "Player  AVRG_NET: -250.0 +/- 2186.4105240933845\n",
      "Player  AVRG_NET: 250.0 +/- 2186.4105240933845\n",
      "UCB List:  [-349.10293871100293, 700.8970612889971, 1400.897061288997, 1150.897061288997, inf, inf, inf, inf, inf, inf]\n",
      "best agent, reward, arm_times, avg reward 4 -250.0 1 -250.0\n",
      "\n",
      "Played 20 hands of poker.\n",
      "Player  AVRG_NET: -150.0 +/- 2116.7772753276327\n",
      "Player  AVRG_NET: 150.0 +/- 2116.7772753276327\n",
      "\n",
      "Played 20 hands of poker.\n",
      "Player  SINGLE: -250.0 +/- 2339.204735014252\n",
      "Player  AVRG_NET: 250.0 +/- 2339.204735014252\n",
      "UCB List:  [-349.0534907635876, 700.9465092364125, 1400.9465092364123, 1150.9465092364123, -249.05349076358758, inf, inf, inf, inf, inf]\n",
      "best agent, reward, arm_times, avg reward 5 -250.0 1 -250.0\n",
      "\n",
      "Played 20 hands of poker.\n",
      "Player  AVRG_NET: 1100.0 +/- 1864.0617246034249\n",
      "Player  AVRG_NET: -1100.0 +/- 1864.0617246034249\n",
      "\n",
      "Played 20 hands of poker.\n",
      "Player  SINGLE: 1150.0 +/- 1941.661716718106\n",
      "Player  AVRG_NET: -1150.0 +/- 1941.661716718106\n",
      "UCB List:  [-349.0136151488756, 700.9863848511244, 1400.9863848511243, 1150.9863848511243, -249.01361514887563, -249.01361514887563, inf, inf, inf, inf]\n",
      "best agent, reward, arm_times, avg reward 6 1150.0 1 1150.0\n",
      "\n",
      "Played 20 hands of poker.\n",
      "Player  AVRG_NET: 0.0 +/- 1945.2444828389766\n",
      "Player  AVRG_NET: -0.0 +/- 1945.2444828389766\n",
      "\n",
      "Played 20 hands of poker.\n",
      "Player  SINGLE: 900.0 +/- 1969.2878780114875\n",
      "Player  AVRG_NET: -900.0 +/- 1969.2878780114875\n",
      "UCB List:  [-348.9803330098312, 701.0196669901688, 1401.0196669901688, 1151.0196669901688, -248.98033300983118, -248.98033300983118, 1151.0196669901688, inf, inf, inf]\n",
      "best agent, reward, arm_times, avg reward 7 900.0 1 900.0\n",
      "\n",
      "Played 20 hands of poker.\n",
      "Player  AVRG_NET: 350.0 +/- 2270.0277314623154\n",
      "Player  AVRG_NET: -350.0 +/- 2270.0277314623154\n",
      "\n",
      "Played 20 hands of poker.\n",
      "Player  SINGLE: 850.0 +/- 1808.49161395732\n",
      "Player  AVRG_NET: -850.0 +/- 1808.49161395732\n",
      "UCB List:  [-348.9518529260318, 701.0481470739682, 1401.0481470739683, 1151.0481470739683, -248.9518529260318, -248.9518529260318, 1151.0481470739683, 901.0481470739682, inf, inf]\n",
      "best agent, reward, arm_times, avg reward 8 850.0 1 850.0\n",
      "\n",
      "Played 20 hands of poker.\n",
      "Player  AVRG_NET: -100.0 +/- 2423.9897332517517\n",
      "Player  AVRG_NET: 100.0 +/- 2423.9897332517517\n",
      "\n",
      "Played 20 hands of poker.\n",
      "Player  SINGLE: -1000.0 +/- 2200.0944565287537\n",
      "Player  AVRG_NET: 1000.0 +/- 2200.0944565287537\n",
      "UCB List:  [-348.92701698685534, 701.0729830131447, 1401.0729830131447, 1151.0729830131447, -248.92701698685534, -248.92701698685534, 1151.0729830131447, 901.0729830131447, 851.0729830131447, inf]\n",
      "best agent, reward, arm_times, avg reward 9 -1000.0 1 -1000.0\n",
      "\n",
      "Played 20 hands of poker.\n",
      "Player  AVRG_NET: 2100.0 +/- 1621.5964972828474\n",
      "Player  AVRG_NET: -2100.0 +/- 1621.5964972828474\n",
      "number of trials of each arm: [1, 1, 1, 1, 1, 1, 1, 1, 1, 1]\n"
     ]
    }
   ],
   "source": [
    "n_episodes = 10\n",
    "bandit = MAB(agents, cfr2, gamma = 0.5, n_hands = 10)\n",
    "bandit.run(n_episodes)"
   ]
  },
  {
   "cell_type": "code",
   "execution_count": 22,
   "metadata": {},
   "outputs": [
    {
     "data": {
      "text/html": [
       "<div style='column-count: 2;'><p>DejaVu Sans: <span style='font-family:DejaVu Sans; font-size: 24px;'>DejaVu Sans</p>\n",
       "<p>DejaVu Sans Display: <span style='font-family:DejaVu Sans Display; font-size: 24px;'>DejaVu Sans Display</p>\n",
       "<p>DejaVu Sans Mono: <span style='font-family:DejaVu Sans Mono; font-size: 24px;'>DejaVu Sans Mono</p>\n",
       "<p>DejaVu Serif: <span style='font-family:DejaVu Serif; font-size: 24px;'>DejaVu Serif</p>\n",
       "<p>DejaVu Serif Display: <span style='font-family:DejaVu Serif Display; font-size: 24px;'>DejaVu Serif Display</p>\n",
       "<p>STIXGeneral: <span style='font-family:STIXGeneral; font-size: 24px;'>STIXGeneral</p>\n",
       "<p>STIXNonUnicode: <span style='font-family:STIXNonUnicode; font-size: 24px;'>STIXNonUnicode</p>\n",
       "<p>STIXSizeFiveSym: <span style='font-family:STIXSizeFiveSym; font-size: 24px;'>STIXSizeFiveSym</p>\n",
       "<p>STIXSizeFourSym: <span style='font-family:STIXSizeFourSym; font-size: 24px;'>STIXSizeFourSym</p>\n",
       "<p>STIXSizeOneSym: <span style='font-family:STIXSizeOneSym; font-size: 24px;'>STIXSizeOneSym</p>\n",
       "<p>STIXSizeThreeSym: <span style='font-family:STIXSizeThreeSym; font-size: 24px;'>STIXSizeThreeSym</p>\n",
       "<p>STIXSizeTwoSym: <span style='font-family:STIXSizeTwoSym; font-size: 24px;'>STIXSizeTwoSym</p>\n",
       "<p>cmb10: <span style='font-family:cmb10; font-size: 24px;'>cmb10</p>\n",
       "<p>cmex10: <span style='font-family:cmex10; font-size: 24px;'>cmex10</p>\n",
       "<p>cmmi10: <span style='font-family:cmmi10; font-size: 24px;'>cmmi10</p>\n",
       "<p>cmr10: <span style='font-family:cmr10; font-size: 24px;'>cmr10</p>\n",
       "<p>cmss10: <span style='font-family:cmss10; font-size: 24px;'>cmss10</p>\n",
       "<p>cmsy10: <span style='font-family:cmsy10; font-size: 24px;'>cmsy10</p>\n",
       "<p>cmtt10: <span style='font-family:cmtt10; font-size: 24px;'>cmtt10</p></div>"
      ],
      "text/plain": [
       "<IPython.core.display.HTML object>"
      ]
     },
     "execution_count": 22,
     "metadata": {},
     "output_type": "execute_result"
    }
   ],
   "source": [
    "import matplotlib.font_manager\n",
    "from IPython.core.display import HTML\n",
    "\n",
    "def make_html(fontname):\n",
    "    return \"<p>{font}: <span style='font-family:{font}; font-size: 24px;'>{font}</p>\".format(font=fontname)\n",
    "\n",
    "code = \"\\n\".join([make_html(font) for font in sorted(set([f.name for f in matplotlib.font_manager.fontManager.ttflist]))])\n",
    "\n",
    "HTML(\"<div style='column-count: 2;'>{}</div>\".format(code))"
   ]
  },
  {
   "cell_type": "code",
   "execution_count": 25,
   "metadata": {},
   "outputs": [
    {
     "data": {
      "text/plain": [
       "Text(0.5, 0, 'Time')"
      ]
     },
     "execution_count": 25,
     "metadata": {},
     "output_type": "execute_result"
    },
    {
     "data": {
      "image/png": "[encoded data removed]",
      "text/plain": [
       "<Figure size 432x288 with 1 Axes>"
      ]
     },
     "metadata": {
      "needs_background": "light"
     },
     "output_type": "display_data"
    }
   ],
   "source": [
    "font = \"DejaVu Serif\"\n",
    "plt.plot(bandit.reward_list)\n",
    "# plt.fill_between(range(n_episodes), bandit.upper_bounds, bandit.lower_bounds, color='blue', alpha=.5)\n",
    "plt.plot(bandit.nash, color = 'red')\n",
    "plt.title('Performance of Agents Against CFR2', fontname = font)\n",
    "plt.ylabel('Average Reward Per Hand', fontname = font)\n",
    "plt.xlabel('Time', fontname = font)"
   ]
  },
  {
   "cell_type": "code",
   "execution_count": null,
   "metadata": {},
   "outputs": [],
   "source": [
    "# TODO: New model, oracle,"
   ]
  },
  {
   "cell_type": "code",
   "execution_count": null,
   "metadata": {},
   "outputs": [],
   "source": []
  }
 ],
 "metadata": {
  "kernelspec": {
   "display_name": "Python 3",
   "language": "python",
   "name": "python3"
  },
  "language_info": {
   "codemirror_mode": {
    "name": "ipython",
    "version": 3
   },
   "file_extension": ".py",
   "mimetype": "text/x-python",
   "name": "python",
   "nbconvert_exporter": "python",
   "pygments_lexer": "ipython3",
   "version": "3.7.3"
  }
 },
 "nbformat": 4,
 "nbformat_minor": 2
}
